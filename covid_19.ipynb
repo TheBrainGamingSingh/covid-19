{
 "cells": [
  {
   "cell_type": "code",
   "execution_count": 19,
   "metadata": {},
   "outputs": [],
   "source": [
    "import pandas as pd\n",
    "import os\n",
    "import numpy as np\n",
    "import requests\n",
    "import datetime as dt\n",
    "import matplotlib.pyplot as plt\n",
    "%matplotlib inline"
   ]
  },
  {
   "cell_type": "code",
   "execution_count": 20,
   "metadata": {},
   "outputs": [],
   "source": [
    "confirmed_url = 'https://raw.githubusercontent.com/CSSEGISandData/COVID-19/master/csse_covid_19_data/csse_covid_19_time_series/time_series_covid19_confirmed_global.csv'\n",
    "deaths_url = 'https://raw.githubusercontent.com/CSSEGISandData/COVID-19/master/csse_covid_19_data/csse_covid_19_time_series/time_series_covid19_deaths_global.csv'\n",
    "recovered_url = 'https://raw.githubusercontent.com/CSSEGISandData/COVID-19/master/csse_covid_19_data/csse_covid_19_time_series/time_series_covid19_recovered_global.csv'"
   ]
  },
  {
   "cell_type": "code",
   "execution_count": 21,
   "metadata": {},
   "outputs": [],
   "source": [
    "data = requests.get(confirmed_url)\n",
    "with open('confirmed.csv','w') as file:\n",
    "    file.write(data.content.decode(\"utf-8\"))\n",
    "\n",
    "data = requests.get(deaths_url)\n",
    "with open('deaths.csv','w') as file:\n",
    "    file.write(data.content.decode(\"utf-8\"))\n",
    "\n",
    "data = requests.get(recovered_url)\n",
    "with open('recovered.csv','w') as file:\n",
    "    file.write(data.content.decode(\"utf-8\")) "
   ]
  },
  {
   "cell_type": "code",
   "execution_count": 22,
   "metadata": {},
   "outputs": [],
   "source": [
    "files = ['confirmed.csv','deaths.csv','recovered.csv']    "
   ]
  },
  {
   "cell_type": "code",
   "execution_count": 23,
   "metadata": {},
   "outputs": [],
   "source": [
    "confirmed = pd.read_csv(files[0])\n",
    "deaths = pd.read_csv(files[1])\n",
    "recovered = pd.read_csv(files[2])"
   ]
  },
  {
   "cell_type": "code",
   "execution_count": 24,
   "metadata": {},
   "outputs": [],
   "source": [
    "confirmed = confirmed.set_index('Country/Region')\n",
    "deaths = deaths.set_index('Country/Region')\n",
    "recovered = recovered.set_index('Country/Region')"
   ]
  },
  {
   "cell_type": "code",
   "execution_count": 25,
   "metadata": {
    "scrolled": false
   },
   "outputs": [],
   "source": [
    "# india = None\n",
    "# results = pd.DataFrame()\n",
    "# for i in confirmed.index:\n",
    "#     _confirmed = pd.DataFrame(confirmed.loc[i])\n",
    "#     _deaths = pd.DataFrame(deaths.loc[i])\n",
    "#     _recovered = pd.DataFrame(recovered.loc[i])\n",
    "#     _confirmed.columns = ['Confirmed']\n",
    "#     _deaths.columns = ['Deaths']\n",
    "#     _recovered.columns = ['Recovered']\n",
    "    \n",
    "#     _df = pd.concat([_confirmed,_deaths,_recovered],axis=1)\n",
    "#     if(i == 'India'):\n",
    "#         india = _df.iloc[-1]\n",
    "#     #_df.index.Name = i\n",
    "#     scaling_factor = 1 + _df.pct_change().rolling(7).mean().iloc[-1]\n",
    "#     scaling_factor = scaling_factor.replace(np.nan,1)\n",
    "    \n",
    "#     pred = _df.ewm(com=0.1).mean().loc[_df.index[-1]]\n",
    "#     pred = pred * scaling_factor\n",
    "#     pred.name = i\n",
    "#     results = results.append(pred)\n",
    "\n",
    "# results = results.astype(int)\n",
    "\n",
    "# results.loc['India']\n",
    "\n",
    "# results.to_excel('results.xlsx',index_label = 'Country/Region')\n"
   ]
  },
  {
   "cell_type": "code",
   "execution_count": 164,
   "metadata": {},
   "outputs": [],
   "source": [
    "india = pd.DataFrame([confirmed.loc['India'],deaths.loc['India'],recovered.loc['India']])\n",
    "\n",
    "india = india.transpose()\n",
    "\n",
    "india = india[3:]\n",
    "\n",
    "india.columns = ['Confirmed','Deaths','Recovered']\n",
    "\n",
    "india['Active'] = india['Confirmed'] - india['Deaths'] - india['Recovered']"
   ]
  },
  {
   "cell_type": "code",
   "execution_count": 166,
   "metadata": {},
   "outputs": [
    {
     "data": {
      "image/png": "[encoded data removed]",
      "text/plain": [
       "<Figure size 432x288 with 1 Axes>"
      ]
     },
     "metadata": {
      "needs_background": "light"
     },
     "output_type": "display_data"
    }
   ],
   "source": [
    "india.plot()\n",
    "india.to_excel('results.xlsx')"
   ]
  },
  {
   "cell_type": "code",
   "execution_count": 167,
   "metadata": {},
   "outputs": [],
   "source": [
    "_change = india.pct_change().rolling(window=7).mean()"
   ]
  },
  {
   "cell_type": "code",
   "execution_count": 168,
   "metadata": {},
   "outputs": [],
   "source": [
    "i = india.iloc[-1] * (1 + _change.iloc[-1])"
   ]
  },
  {
   "cell_type": "code",
   "execution_count": 169,
   "metadata": {},
   "outputs": [],
   "source": [
    "india = india.iloc[-1].astype(int)"
   ]
  },
  {
   "cell_type": "code",
   "execution_count": 170,
   "metadata": {},
   "outputs": [
    {
     "data": {
      "text/plain": [
       "Confirmed    29783\n",
       "Deaths         940\n",
       "Recovered     7345\n",
       "Active       21587\n",
       "Name: 4/26/20, dtype: int32"
      ]
     },
     "execution_count": 170,
     "metadata": {},
     "output_type": "execute_result"
    }
   ],
   "source": [
    "i = i.astype(int)\n",
    "i"
   ]
  },
  {
   "cell_type": "code",
   "execution_count": 171,
   "metadata": {},
   "outputs": [],
   "source": [
    "import email, smtplib, ssl\n",
    "\n",
    "from email import encoders\n",
    "from email.mime.base import MIMEBase\n",
    "from email.mime.multipart import MIMEMultipart\n",
    "from email.mime.text import MIMEText\n",
    "\n",
    "subject = \"COVID - 19\"\n",
    "body = \"This is an email with attachment sent from your own COVID Tracker\"\n",
    "body += f'\\n\\nTotal Cases in India as of {india.name} are \\nConfirmed = {india[0]} \\nActive Cases = {india[3]} \\nDeaths = {india[1]} \\nRecoveries = {india[2]} \\n\\n'\n",
    "india = i\n",
    "body += f'Your predictions as of {dt.datetime.now().strftime(\"%b %d, %Y\")} are \\nConfirmed = {india[0]} \\nActive Cases = {india[3]} \\nDeaths = {india[1]} \\nRecoveries = {india[2]} \\n\\n'\n",
    "\n",
    "sender_email = os.environ['EMAIL_USER']\n",
    "receiver_email = \"itsmanpreetsinghjuneja@gmail.com\"\n",
    "password = os.environ['EMAIL_PASS']\n",
    "\n",
    "message = MIMEMultipart()\n",
    "message[\"From\"] = sender_email\n",
    "message[\"To\"] = receiver_email\n",
    "message[\"Subject\"] = subject\n",
    "\n",
    "message.attach(MIMEText(body, \"plain\"))\n",
    "\n",
    "filename = \"results.xlsx\"  # In same directory as script\n",
    "\n",
    "# Open PDF file in binary mode\n",
    "with open(filename, \"rb\") as attachment:\n",
    "    # Add file as application/octet-stream\n",
    "    # Email client can usually download this automatically as attachment\n",
    "    part = MIMEBase(\"application\", \"octet-stream\")\n",
    "    part.set_payload(attachment.read())\n",
    "\n",
    "# Encode file in ASCII characters to send by email    \n",
    "encoders.encode_base64(part)\n",
    "\n",
    "# Add header as key/value pair to attachment part\n",
    "part.add_header(\n",
    "    \"Content-Disposition\",\n",
    "    f\"attachment; filename= {filename}\",\n",
    ")\n",
    "\n",
    "# Add attachment to message and convert message to string\n",
    "message.attach(part)\n",
    "text = message.as_string()\n",
    "\n",
    "# Log in to server using secure context and send email\n",
    "context = ssl.create_default_context()\n",
    "with smtplib.SMTP_SSL(\"smtp.gmail.com\", 465, context=context) as server:\n",
    "    server.login(sender_email, password)\n",
    "    server.sendmail(sender_email, receiver_email, text)"
   ]
  },
  {
   "cell_type": "code",
   "execution_count": null,
   "metadata": {},
   "outputs": [],
   "source": []
  }
 ],
 "metadata": {
  "kernelspec": {
   "display_name": "Python 3",
   "language": "python",
   "name": "python3"
  },
  "language_info": {
   "codemirror_mode": {
    "name": "ipython",
    "version": 3
   },
   "file_extension": ".py",
   "mimetype": "text/x-python",
   "name": "python",
   "nbconvert_exporter": "python",
   "pygments_lexer": "ipython3",
   "version": "3.7.3"
  }
 },
 "nbformat": 4,
 "nbformat_minor": 2
}
